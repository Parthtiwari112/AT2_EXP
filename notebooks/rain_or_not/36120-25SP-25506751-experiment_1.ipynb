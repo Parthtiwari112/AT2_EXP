{
  "cells": [
    {
      "cell_type": "markdown",
      "metadata": {
        "id": "dxIVVqB7ceqL"
      },
      "source": [
        "# Experiment 1 – Rain or Not (+7 days)\n",
        "**Student ID:** 25506751  \n",
        "\n",
        "## Objective\n",
        "Build a binary classification model to predict if it will rain exactly 7 days from a given date, using historical weather features.\n"
      ]
    },
    {
      "cell_type": "code",
      "execution_count": 15,
      "metadata": {
        "id": "8pUZLrw-ccwI"
      },
      "outputs": [
        {
          "name": "stdout",
          "output_type": "stream",
          "text": [
            "Note: you may need to restart the kernel to use updated packages.\n"
          ]
        }
      ],
      "source": [
        "%pip install pandas numpy matplotlib seaborn scikit-learn --quiet"
      ]
    },
    {
      "cell_type": "code",
      "execution_count": 5,
      "metadata": {
        "colab": {
          "base_uri": "https://localhost:8080/",
          "height": 313
        },
        "id": "M9M6O9mycoUB",
        "outputId": "2f97ef89-91fb-476c-a2da-d7476c9b21e9"
      },
      "outputs": [],
      "source": [
        "import pandas as pd\n",
        "import numpy as np\n",
        "import matplotlib.pyplot as plt\n",
        "import seaborn as sns\n",
        "from sklearn.ensemble import RandomForestClassifier\n",
        "from sklearn.model_selection import train_test_split\n",
        "from sklearn.metrics import accuracy_score, classification_report, roc_auc_score, confusion_matrix"
      ]
    },
    {
      "cell_type": "code",
      "execution_count": 6,
      "metadata": {},
      "outputs": [
        {
          "data": {
            "text/html": [
              "<div>\n",
              "<style scoped>\n",
              "    .dataframe tbody tr th:only-of-type {\n",
              "        vertical-align: middle;\n",
              "    }\n",
              "\n",
              "    .dataframe tbody tr th {\n",
              "        vertical-align: top;\n",
              "    }\n",
              "\n",
              "    .dataframe thead th {\n",
              "        text-align: right;\n",
              "    }\n",
              "</style>\n",
              "<table border=\"1\" class=\"dataframe\">\n",
              "  <thead>\n",
              "    <tr style=\"text-align: right;\">\n",
              "      <th></th>\n",
              "      <th>date</th>\n",
              "      <th>dayofyear_sin</th>\n",
              "      <th>dayofyear_cos</th>\n",
              "      <th>precip_last_1</th>\n",
              "      <th>precip_last_3</th>\n",
              "      <th>precip_last_7</th>\n",
              "      <th>temp_max_mean_7</th>\n",
              "      <th>temp_min_mean_7</th>\n",
              "      <th>precip_hours_last_7</th>\n",
              "      <th>weathercode</th>\n",
              "      <th>will_rain_plus7</th>\n",
              "      <th>precip_next_3days</th>\n",
              "    </tr>\n",
              "  </thead>\n",
              "  <tbody>\n",
              "    <tr>\n",
              "      <th>0</th>\n",
              "      <td>2023-01-01</td>\n",
              "      <td>0.017202</td>\n",
              "      <td>0.999852</td>\n",
              "      <td>10.293861</td>\n",
              "      <td>10.293861</td>\n",
              "      <td>10.293861</td>\n",
              "      <td>18.529584</td>\n",
              "      <td>5.323336</td>\n",
              "      <td>6</td>\n",
              "      <td>61</td>\n",
              "      <td>0</td>\n",
              "      <td>16.87</td>\n",
              "    </tr>\n",
              "    <tr>\n",
              "      <th>1</th>\n",
              "      <td>2023-01-02</td>\n",
              "      <td>0.034398</td>\n",
              "      <td>0.999408</td>\n",
              "      <td>0.000000</td>\n",
              "      <td>10.293861</td>\n",
              "      <td>10.293861</td>\n",
              "      <td>17.167908</td>\n",
              "      <td>4.973973</td>\n",
              "      <td>6</td>\n",
              "      <td>80</td>\n",
              "      <td>0</td>\n",
              "      <td>21.43</td>\n",
              "    </tr>\n",
              "    <tr>\n",
              "      <th>2</th>\n",
              "      <td>2023-01-03</td>\n",
              "      <td>0.051584</td>\n",
              "      <td>0.998669</td>\n",
              "      <td>13.354692</td>\n",
              "      <td>23.648553</td>\n",
              "      <td>23.648553</td>\n",
              "      <td>17.102202</td>\n",
              "      <td>4.723854</td>\n",
              "      <td>13</td>\n",
              "      <td>1</td>\n",
              "      <td>0</td>\n",
              "      <td>17.36</td>\n",
              "    </tr>\n",
              "    <tr>\n",
              "      <th>3</th>\n",
              "      <td>2023-01-04</td>\n",
              "      <td>0.068755</td>\n",
              "      <td>0.997634</td>\n",
              "      <td>3.516915</td>\n",
              "      <td>16.871607</td>\n",
              "      <td>27.165467</td>\n",
              "      <td>17.703014</td>\n",
              "      <td>4.664940</td>\n",
              "      <td>17</td>\n",
              "      <td>61</td>\n",
              "      <td>1</td>\n",
              "      <td>13.84</td>\n",
              "    </tr>\n",
              "    <tr>\n",
              "      <th>4</th>\n",
              "      <td>2023-01-05</td>\n",
              "      <td>0.085906</td>\n",
              "      <td>0.996303</td>\n",
              "      <td>4.557101</td>\n",
              "      <td>21.428708</td>\n",
              "      <td>31.722568</td>\n",
              "      <td>17.916828</td>\n",
              "      <td>4.288141</td>\n",
              "      <td>20</td>\n",
              "      <td>63</td>\n",
              "      <td>0</td>\n",
              "      <td>9.28</td>\n",
              "    </tr>\n",
              "  </tbody>\n",
              "</table>\n",
              "</div>"
            ],
            "text/plain": [
              "         date  dayofyear_sin  dayofyear_cos  precip_last_1  precip_last_3  \\\n",
              "0  2023-01-01       0.017202       0.999852      10.293861      10.293861   \n",
              "1  2023-01-02       0.034398       0.999408       0.000000      10.293861   \n",
              "2  2023-01-03       0.051584       0.998669      13.354692      23.648553   \n",
              "3  2023-01-04       0.068755       0.997634       3.516915      16.871607   \n",
              "4  2023-01-05       0.085906       0.996303       4.557101      21.428708   \n",
              "\n",
              "   precip_last_7  temp_max_mean_7  temp_min_mean_7  precip_hours_last_7  \\\n",
              "0      10.293861        18.529584         5.323336                    6   \n",
              "1      10.293861        17.167908         4.973973                    6   \n",
              "2      23.648553        17.102202         4.723854                   13   \n",
              "3      27.165467        17.703014         4.664940                   17   \n",
              "4      31.722568        17.916828         4.288141                   20   \n",
              "\n",
              "   weathercode  will_rain_plus7  precip_next_3days  \n",
              "0           61                0              16.87  \n",
              "1           80                0              21.43  \n",
              "2            1                0              17.36  \n",
              "3           61                1              13.84  \n",
              "4           63                0               9.28  "
            ]
          },
          "execution_count": 6,
          "metadata": {},
          "output_type": "execute_result"
        }
      ],
      "source": [
        "# Load dataset (upload training_data_sample.csv into Colab files first)\n",
        "df = pd.read_csv(\"/Users/oishik/Documents/AT2_submission/experimentation_repo/notebooks/dataset.csv\")\n",
        "df.head()"
      ]
    },
    {
      "cell_type": "code",
      "execution_count": 7,
      "metadata": {
        "colab": {
          "base_uri": "https://localhost:8080/",
          "height": 901
        },
        "id": "2E25bOpgc8Zn",
        "outputId": "ead7839f-b685-4a8a-fd3c-3ce72b475626"
      },
      "outputs": [
        {
          "name": "stdout",
          "output_type": "stream",
          "text": [
            "Rows, Cols: (358, 12)\n",
            "Missing values per column:\n",
            " date                   0\n",
            "dayofyear_sin          0\n",
            "dayofyear_cos          0\n",
            "precip_last_1          0\n",
            "precip_last_3          0\n",
            "precip_last_7          0\n",
            "temp_max_mean_7        0\n",
            "temp_min_mean_7        0\n",
            "precip_hours_last_7    0\n",
            "weathercode            0\n",
            "will_rain_plus7        0\n",
            "precip_next_3days      0\n",
            "dtype: int64\n"
          ]
        },
        {
          "data": {
            "image/png": "[encoded data removed]",
            "text/plain": [
              "<Figure size 640x480 with 1 Axes>"
            ]
          },
          "metadata": {},
          "output_type": "display_data"
        },
        {
          "data": {
            "text/plain": [
              "will_rain_plus7\n",
              "0    0.787709\n",
              "1    0.212291\n",
              "Name: proportion, dtype: float64"
            ]
          },
          "execution_count": 7,
          "metadata": {},
          "output_type": "execute_result"
        }
      ],
      "source": [
        "print(\"Rows, Cols:\", df.shape)\n",
        "print(\"Missing values per column:\\n\", df.isnull().sum())\n",
        "\n",
        "# Target distribution\n",
        "sns.countplot(x=df['will_rain_plus7'])\n",
        "plt.title('Target distribution (Rain in +7 days)')\n",
        "plt.show()\n",
        "\n",
        "df['will_rain_plus7'].value_counts(normalize=True)\n"
      ]
    },
    {
      "cell_type": "code",
      "execution_count": 8,
      "metadata": {
        "colab": {
          "base_uri": "https://localhost:8080/"
        },
        "id": "LhSW33kNc-6k",
        "outputId": "64f3fe22-64d2-4b9f-dea8-f04032a3dbae"
      },
      "outputs": [
        {
          "data": {
            "text/plain": [
              "((286, 9), (72, 9))"
            ]
          },
          "execution_count": 8,
          "metadata": {},
          "output_type": "execute_result"
        }
      ],
      "source": [
        "FEATURE_COLS = [\n",
        "    \"dayofyear_sin\",\"dayofyear_cos\",\"precip_last_1\",\"precip_last_3\",\"precip_last_7\",\n",
        "    \"temp_max_mean_7\",\"temp_min_mean_7\",\"precip_hours_last_7\",\"weathercode\"\n",
        "]\n",
        "X = df[FEATURE_COLS]\n",
        "y = df['will_rain_plus7']\n",
        "\n",
        "X_train, X_test, y_train, y_test = train_test_split(\n",
        "    X, y, test_size=0.2, random_state=42, stratify=y\n",
        ")\n",
        "X_train.shape, X_test.shape\n"
      ]
    },
    {
      "cell_type": "code",
      "execution_count": 9,
      "metadata": {
        "colab": {
          "base_uri": "https://localhost:8080/"
        },
        "id": "DrHs7-P3dHCm",
        "outputId": "d366014d-5bf2-494a-de4e-f0d2ca843cf6"
      },
      "outputs": [
        {
          "name": "stdout",
          "output_type": "stream",
          "text": [
            "Accuracy: 0.7638888888888888\n",
            "AUC: 0.6467836257309941\n",
            "              precision    recall  f1-score   support\n",
            "\n",
            "           0       0.80      0.93      0.86        57\n",
            "           1       0.33      0.13      0.19        15\n",
            "\n",
            "    accuracy                           0.76        72\n",
            "   macro avg       0.57      0.53      0.53        72\n",
            "weighted avg       0.71      0.76      0.72        72\n",
            "\n"
          ]
        }
      ],
      "source": [
        "clf = RandomForestClassifier(n_estimators=200, random_state=42, n_jobs=-1)\n",
        "clf.fit(X_train, y_train)\n",
        "\n",
        "pred = clf.predict(X_test)\n",
        "proba = clf.predict_proba(X_test)[:,1]\n",
        "\n",
        "print(\"Accuracy:\", accuracy_score(y_test, pred))\n",
        "print(\"AUC:\", roc_auc_score(y_test, proba))\n",
        "print(classification_report(y_test, pred))\n"
      ]
    },
    {
      "cell_type": "code",
      "execution_count": 10,
      "metadata": {
        "colab": {
          "base_uri": "https://localhost:8080/",
          "height": 452
        },
        "id": "azJ6EuHYdL2a",
        "outputId": "353a706b-0e82-4932-c31d-2ff8e73eeb53"
      },
      "outputs": [
        {
          "data": {
            "image/png": "[encoded data removed]",
            "text/plain": [
              "<Figure size 640x480 with 2 Axes>"
            ]
          },
          "metadata": {},
          "output_type": "display_data"
        }
      ],
      "source": [
        "cm = confusion_matrix(y_test, pred)\n",
        "sns.heatmap(cm, annot=True, fmt='d', cmap='Blues',\n",
        "            xticklabels=[\"No Rain\",\"Rain\"], yticklabels=[\"No Rain\",\"Rain\"])\n",
        "plt.title(\"Confusion Matrix\")\n",
        "plt.show()\n"
      ]
    },
    {
      "cell_type": "code",
      "execution_count": 11,
      "metadata": {
        "colab": {
          "base_uri": "https://localhost:8080/",
          "height": 924
        },
        "id": "DMqKfVEXdOfw",
        "outputId": "7af55456-6a96-420b-d4b2-2c364d649b83"
      },
      "outputs": [
        {
          "data": {
            "image/png": "[encoded data removed]",
            "text/plain": [
              "<Figure size 640x480 with 1 Axes>"
            ]
          },
          "metadata": {},
          "output_type": "display_data"
        },
        {
          "data": {
            "text/plain": [
              "dayofyear_cos          0.180157\n",
              "temp_max_mean_7        0.172372\n",
              "temp_min_mean_7        0.156236\n",
              "dayofyear_sin          0.145026\n",
              "precip_last_7          0.097255\n",
              "weathercode            0.074941\n",
              "precip_last_3          0.073435\n",
              "precip_hours_last_7    0.062249\n",
              "precip_last_1          0.038329\n",
              "dtype: float64"
            ]
          },
          "execution_count": 11,
          "metadata": {},
          "output_type": "execute_result"
        }
      ],
      "source": [
        "importances = pd.Series(clf.feature_importances_, index=FEATURE_COLS).sort_values(ascending=False)\n",
        "importances.plot(kind='bar')\n",
        "plt.title(\"Feature Importances\")\n",
        "plt.show()\n",
        "\n",
        "importances\n"
      ]
    },
    {
      "cell_type": "code",
      "execution_count": 20,
      "metadata": {},
      "outputs": [
        {
          "name": "stdout",
          "output_type": "stream",
          "text": [
            "Rain classifier model saved successfully!\n"
          ]
        }
      ],
      "source": [
        "import joblib\n",
        "\n",
        "# Save classifier into experimentation repo\n",
        "joblib.dump(clf, \"/Users/oishik/Documents/AT2_submission/experimentation_repo/models/rain_or_not/rain_model.pkl\")\n",
        "\n",
        "# Also save a copy into API repo\n",
        "joblib.dump(clf, \"/Users/oishik/Documents/AT2_submission/experimentation_repo/api/rain_model.pkl\")\n",
        "\n",
        "print(\"Rain classifier model saved successfully!\")"
      ]
    },
    {
      "cell_type": "markdown",
      "metadata": {
        "id": "NQxAU8AHdRvD"
      },
      "source": [
        "## Discussion\n",
        "- The dataset is slightly imbalanced (more no-rain days).\n",
        "- Accuracy and AUC show predictive ability; AUC > 0.7 is considered useful.\n",
        "- Strongest predictors: recent precipitation features and day-of-year seasonality.\n",
        "- Improvements:\n",
        "  - Class balancing (SMOTE or weights),\n",
        "  - Hyperparameter tuning,\n",
        "  - Try alternative models (XGBoost, LightGBM).\n"
      ]
    }
  ],
  "metadata": {
    "colab": {
      "provenance": []
    },
    "kernelspec": {
      "display_name": ".venv",
      "language": "python",
      "name": "python3"
    },
    "language_info": {
      "codemirror_mode": {
        "name": "ipython",
        "version": 3
      },
      "file_extension": ".py",
      "mimetype": "text/x-python",
      "name": "python",
      "nbconvert_exporter": "python",
      "pygments_lexer": "ipython3",
      "version": "3.13.7"
    }
  },
  "nbformat": 4,
  "nbformat_minor": 0
}
