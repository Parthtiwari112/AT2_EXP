{
 "cells": [
  {
   "cell_type": "code",
   "execution_count": 8,
   "id": "b06b09c6",
   "metadata": {},
   "outputs": [
    {
     "name": "stdout",
     "output_type": "stream",
     "text": [
      "\n",
      "\u001b[1m[\u001b[0m\u001b[34;49mnotice\u001b[0m\u001b[1;39;49m]\u001b[0m\u001b[39;49m A new release of pip is available: \u001b[0m\u001b[31;49m25.1.1\u001b[0m\u001b[39;49m -> \u001b[0m\u001b[32;49m25.2\u001b[0m\n",
      "\u001b[1m[\u001b[0m\u001b[34;49mnotice\u001b[0m\u001b[1;39;49m]\u001b[0m\u001b[39;49m To update, run: \u001b[0m\u001b[32;49mpython -m pip install --upgrade pip\u001b[0m\n",
      "Note: you may need to restart the kernel to use updated packages.\n",
      "Loaded: dataset.csv\n",
      "Rows, cols: (358, 12)\n"
     ]
    },
    {
     "data": {
      "text/html": [
       "<div>\n",
       "<style scoped>\n",
       "    .dataframe tbody tr th:only-of-type {\n",
       "        vertical-align: middle;\n",
       "    }\n",
       "\n",
       "    .dataframe tbody tr th {\n",
       "        vertical-align: top;\n",
       "    }\n",
       "\n",
       "    .dataframe thead th {\n",
       "        text-align: right;\n",
       "    }\n",
       "</style>\n",
       "<table border=\"1\" class=\"dataframe\">\n",
       "  <thead>\n",
       "    <tr style=\"text-align: right;\">\n",
       "      <th></th>\n",
       "      <th>date</th>\n",
       "      <th>dayofyear_sin</th>\n",
       "      <th>dayofyear_cos</th>\n",
       "      <th>precip_last_1</th>\n",
       "      <th>precip_last_3</th>\n",
       "      <th>precip_last_7</th>\n",
       "      <th>temp_max_mean_7</th>\n",
       "      <th>temp_min_mean_7</th>\n",
       "      <th>precip_hours_last_7</th>\n",
       "      <th>weathercode</th>\n",
       "      <th>will_rain_plus7</th>\n",
       "      <th>precip_next_3days</th>\n",
       "    </tr>\n",
       "  </thead>\n",
       "  <tbody>\n",
       "    <tr>\n",
       "      <th>0</th>\n",
       "      <td>2023-01-01</td>\n",
       "      <td>0.017202</td>\n",
       "      <td>0.999852</td>\n",
       "      <td>10.293861</td>\n",
       "      <td>10.293861</td>\n",
       "      <td>10.293861</td>\n",
       "      <td>18.529584</td>\n",
       "      <td>5.323336</td>\n",
       "      <td>6</td>\n",
       "      <td>61</td>\n",
       "      <td>0</td>\n",
       "      <td>16.87</td>\n",
       "    </tr>\n",
       "    <tr>\n",
       "      <th>1</th>\n",
       "      <td>2023-01-02</td>\n",
       "      <td>0.034398</td>\n",
       "      <td>0.999408</td>\n",
       "      <td>0.000000</td>\n",
       "      <td>10.293861</td>\n",
       "      <td>10.293861</td>\n",
       "      <td>17.167908</td>\n",
       "      <td>4.973973</td>\n",
       "      <td>6</td>\n",
       "      <td>80</td>\n",
       "      <td>0</td>\n",
       "      <td>21.43</td>\n",
       "    </tr>\n",
       "    <tr>\n",
       "      <th>2</th>\n",
       "      <td>2023-01-03</td>\n",
       "      <td>0.051584</td>\n",
       "      <td>0.998669</td>\n",
       "      <td>13.354692</td>\n",
       "      <td>23.648553</td>\n",
       "      <td>23.648553</td>\n",
       "      <td>17.102202</td>\n",
       "      <td>4.723854</td>\n",
       "      <td>13</td>\n",
       "      <td>1</td>\n",
       "      <td>0</td>\n",
       "      <td>17.36</td>\n",
       "    </tr>\n",
       "    <tr>\n",
       "      <th>3</th>\n",
       "      <td>2023-01-04</td>\n",
       "      <td>0.068755</td>\n",
       "      <td>0.997634</td>\n",
       "      <td>3.516915</td>\n",
       "      <td>16.871607</td>\n",
       "      <td>27.165467</td>\n",
       "      <td>17.703014</td>\n",
       "      <td>4.664940</td>\n",
       "      <td>17</td>\n",
       "      <td>61</td>\n",
       "      <td>1</td>\n",
       "      <td>13.84</td>\n",
       "    </tr>\n",
       "    <tr>\n",
       "      <th>4</th>\n",
       "      <td>2023-01-05</td>\n",
       "      <td>0.085906</td>\n",
       "      <td>0.996303</td>\n",
       "      <td>4.557101</td>\n",
       "      <td>21.428708</td>\n",
       "      <td>31.722568</td>\n",
       "      <td>17.916828</td>\n",
       "      <td>4.288141</td>\n",
       "      <td>20</td>\n",
       "      <td>63</td>\n",
       "      <td>0</td>\n",
       "      <td>9.28</td>\n",
       "    </tr>\n",
       "  </tbody>\n",
       "</table>\n",
       "</div>"
      ],
      "text/plain": [
       "        date  dayofyear_sin  dayofyear_cos  precip_last_1  precip_last_3  \\\n",
       "0 2023-01-01       0.017202       0.999852      10.293861      10.293861   \n",
       "1 2023-01-02       0.034398       0.999408       0.000000      10.293861   \n",
       "2 2023-01-03       0.051584       0.998669      13.354692      23.648553   \n",
       "3 2023-01-04       0.068755       0.997634       3.516915      16.871607   \n",
       "4 2023-01-05       0.085906       0.996303       4.557101      21.428708   \n",
       "\n",
       "   precip_last_7  temp_max_mean_7  temp_min_mean_7  precip_hours_last_7  \\\n",
       "0      10.293861        18.529584         5.323336                    6   \n",
       "1      10.293861        17.167908         4.973973                    6   \n",
       "2      23.648553        17.102202         4.723854                   13   \n",
       "3      27.165467        17.703014         4.664940                   17   \n",
       "4      31.722568        17.916828         4.288141                   20   \n",
       "\n",
       "   weathercode  will_rain_plus7  precip_next_3days  \n",
       "0           61                0              16.87  \n",
       "1           80                0              21.43  \n",
       "2            1                0              17.36  \n",
       "3           61                1              13.84  \n",
       "4           63                0               9.28  "
      ]
     },
     "execution_count": 8,
     "metadata": {},
     "output_type": "execute_result"
    }
   ],
   "source": [
    "\n",
    "# If you run on a fresh environment uncomment this:\n",
    "%pip install -q pandas numpy matplotlib seaborn scikit-learn joblib\n",
    "\n",
    "import os\n",
    "import pandas as pd\n",
    "import numpy as np\n",
    "\n",
    "# attempt multiple likely locations for dataset.csv\n",
    "candidates = [\n",
    "    \"notebooks/dataset.csv\",\n",
    "    \"./notebooks/dataset.csv\",\n",
    "    \"dataset.csv\",\n",
    "    \"../notebooks/dataset.csv\",\n",
    "    \"AT2_EXP-main/notebooks/dataset.csv\"\n",
    "]\n",
    "DATA_PATH = None\n",
    "for p in candidates:\n",
    "    if os.path.exists(p):\n",
    "        DATA_PATH = p\n",
    "        break\n",
    "\n",
    "if DATA_PATH is None:\n",
    "    raise FileNotFoundError(\n",
    "        \"dataset.csv not found. Put it in notebooks/ or the same folder as this notebook, or set DATA_PATH.\"\n",
    "    )\n",
    "\n",
    "df = pd.read_csv(DATA_PATH, parse_dates=[\"date\"])\n",
    "print(\"Loaded:\", DATA_PATH)\n",
    "print(\"Rows, cols:\", df.shape)\n",
    "df.head()"
   ]
  },
  {
   "cell_type": "code",
   "execution_count": 9,
   "id": "6b3282b8",
   "metadata": {},
   "outputs": [
    {
     "name": "stdout",
     "output_type": "stream",
     "text": [
      "Using features: ['dayofyear_sin', 'dayofyear_cos', 'precip_last_1', 'precip_last_3', 'precip_last_7', 'temp_max_mean_7', 'temp_min_mean_7', 'precip_hours_last_7', 'weathercode']\n"
     ]
    }
   ],
   "source": [
    "# features originally used in experiments (keep consistent)\n",
    "FEATURE_COLS = [\n",
    "    \"dayofyear_sin\",\"dayofyear_cos\",\n",
    "    \"precip_last_1\",\"precip_last_3\",\"precip_last_7\",\n",
    "    \"temp_max_mean_7\",\"temp_min_mean_7\",\n",
    "    \"precip_hours_last_7\",\"weathercode\"\n",
    "]\n",
    "# ensure columns exist\n",
    "FEATURE_COLS = [c for c in FEATURE_COLS if c in df.columns]\n",
    "print(\"Using features:\", FEATURE_COLS)\n"
   ]
  },
  {
   "cell_type": "code",
   "execution_count": 10,
   "id": "5bc54f66",
   "metadata": {},
   "outputs": [
    {
     "name": "stdout",
     "output_type": "stream",
     "text": [
      "Top correlations with precip_next_3days:\n",
      " precip_next_3days      1.000000\n",
      "dayofyear_cos          0.421840\n",
      "temp_min_mean_7        0.420471\n",
      "temp_max_mean_7        0.419618\n",
      "precip_last_7          0.208316\n",
      "precip_last_3          0.206300\n",
      "precip_hours_last_7    0.188465\n",
      "precip_last_1          0.104735\n",
      "dayofyear_sin          0.077350\n",
      "weathercode            0.003418\n",
      "Name: precip_next_3days, dtype: float64\n"
     ]
    }
   ],
   "source": [
    "# correlation (numerical only)\n",
    "corrs = df[FEATURE_COLS + [\"precip_next_3days\"]].select_dtypes(include=np.number).corr()\n",
    "print(\"Top correlations with precip_next_3days:\\n\", corrs[\"precip_next_3days\"].abs().sort_values(ascending=False).head(10))\n"
   ]
  },
  {
   "cell_type": "code",
   "execution_count": 11,
   "id": "aece9b80",
   "metadata": {},
   "outputs": [
    {
     "name": "stdout",
     "output_type": "stream",
     "text": [
      "Top classifier features:\n",
      " dayofyear_cos          0.176996\n",
      "temp_max_mean_7        0.159215\n",
      "temp_min_mean_7        0.149987\n",
      "dayofyear_sin          0.130238\n",
      "precip_last_7          0.095187\n",
      "precip_last_3          0.067878\n",
      "precip_hours_last_7    0.065305\n",
      "precip_last_1          0.036581\n",
      "wc_63                  0.024038\n",
      "wc_2                   0.018299\n",
      "dtype: float64\n",
      "\n",
      "Top regression features:\n",
      " dayofyear_cos          0.231514\n",
      "temp_max_mean_7        0.186776\n",
      "dayofyear_sin          0.176772\n",
      "temp_min_mean_7        0.133433\n",
      "precip_last_7          0.077163\n",
      "precip_last_3          0.074892\n",
      "precip_hours_last_7    0.036860\n",
      "precip_last_1          0.029896\n",
      "wc_0                   0.015719\n",
      "wc_1                   0.010082\n",
      "dtype: float64\n"
     ]
    }
   ],
   "source": [
    "from sklearn.ensemble import RandomForestClassifier, RandomForestRegressor\n",
    "from sklearn.model_selection import train_test_split\n",
    "\n",
    "# prepare basic X (get_dummies for weathercode), minimal preprocessing\n",
    "def prepare_X(df_in, features):\n",
    "    X = df_in[features].copy()\n",
    "    if \"weathercode\" in X.columns:\n",
    "        X = pd.get_dummies(X, columns=[\"weathercode\"], prefix=\"wc\")\n",
    "    return X\n",
    "\n",
    "# quick train-test split for importance fishing\n",
    "X = prepare_X(df, FEATURE_COLS)\n",
    "y_clf = df[\"will_rain_plus7\"]\n",
    "y_reg = df[\"precip_next_3days\"]\n",
    "\n",
    "# split\n",
    "X_train_clf, X_test_clf, y_train_clf, y_test_clf = train_test_split(X, y_clf, test_size=0.2, random_state=42, stratify=y_clf)\n",
    "X_train_reg, X_test_reg, y_train_reg, y_test_reg = train_test_split(X, y_reg, test_size=0.2, random_state=42)\n",
    "\n",
    "# align columns (in case categories differ between splits)\n",
    "X_train_clf, X_test_clf = X_train_clf.align(X_test_clf, join='left', axis=1, fill_value=0)\n",
    "X_train_reg, X_test_reg = X_train_reg.align(X_test_reg, join='left', axis=1, fill_value=0)\n",
    "\n",
    "clf_tmp = RandomForestClassifier(n_estimators=100, random_state=42, n_jobs=-1, class_weight='balanced')\n",
    "clf_tmp.fit(X_train_clf, y_train_clf)\n",
    "imp_clf = pd.Series(clf_tmp.feature_importances_, index=X_train_clf.columns).sort_values(ascending=False)\n",
    "print(\"Top classifier features:\\n\", imp_clf.head(10))\n",
    "\n",
    "reg_tmp = RandomForestRegressor(n_estimators=100, random_state=42, n_jobs=-1)\n",
    "reg_tmp.fit(X_train_reg, y_train_reg)\n",
    "imp_reg = pd.Series(reg_tmp.feature_importances_, index=X_train_reg.columns).sort_values(ascending=False)\n",
    "print(\"\\nTop regression features:\\n\", imp_reg.head(10))\n"
   ]
  },
  {
   "cell_type": "code",
   "execution_count": 12,
   "id": "e3258776",
   "metadata": {},
   "outputs": [
    {
     "name": "stdout",
     "output_type": "stream",
     "text": [
      "Missing per column:\n",
      " dayofyear_sin          0\n",
      "dayofyear_cos          0\n",
      "precip_last_1          0\n",
      "precip_last_3          0\n",
      "precip_last_7          0\n",
      "temp_max_mean_7        0\n",
      "temp_min_mean_7        0\n",
      "precip_hours_last_7    0\n",
      "weathercode            0\n",
      "will_rain_plus7        0\n",
      "precip_next_3days      0\n",
      "dtype: int64\n",
      "After dropping NA rows: (358, 12)\n"
     ]
    }
   ],
   "source": [
    "# show missing count\n",
    "print(\"Missing per column:\\n\", df[FEATURE_COLS + [\"will_rain_plus7\",\"precip_next_3days\"]].isnull().sum())\n",
    "# for simplicity, drop rows with missing features\n",
    "df = df.dropna(subset=FEATURE_COLS + [\"will_rain_plus7\",\"precip_next_3days\"])\n",
    "print(\"After dropping NA rows:\", df.shape)"
   ]
  },
  {
   "cell_type": "markdown",
   "id": "3426b6c9",
   "metadata": {},
   "source": [
    "# E.2 Data type fixes"
   ]
  },
  {
   "cell_type": "code",
   "execution_count": 13,
   "id": "72dee4c4",
   "metadata": {},
   "outputs": [],
   "source": [
    "# ensure numeric types\n",
    "for c in FEATURE_COLS:\n",
    "    if df[c].dtype == 'object':\n",
    "        df[c] = pd.to_numeric(df[c], errors='coerce')"
   ]
  },
  {
   "cell_type": "markdown",
   "id": "4cf9d290",
   "metadata": {},
   "source": [
    "# Scaling / transformation note"
   ]
  },
  {
   "cell_type": "markdown",
   "id": "6464a0ae",
   "metadata": {},
   "source": [
    "Note: For tree-based models scaling is not required. If using linear models or distance-based models in future, apply StandardScaler to numeric columns."
   ]
  },
  {
   "cell_type": "markdown",
   "id": "0a41b1e5",
   "metadata": {},
   "source": [
    "# F. Feature Engineering\n",
    "* F.1 Recent-precip mean and flags"
   ]
  },
  {
   "cell_type": "code",
   "execution_count": 14,
   "id": "63883941",
   "metadata": {},
   "outputs": [],
   "source": [
    "# simple engineered features\n",
    "df[\"precip_recent_mean\"] = df[[\"precip_last_1\",\"precip_last_3\",\"precip_last_7\"]].mean(axis=1)\n",
    "df[\"precip_any_last1\"] = (df[\"precip_last_1\"] > 0).astype(int)"
   ]
  },
  {
   "cell_type": "markdown",
   "id": "7baab05d",
   "metadata": {},
   "source": [
    "# F.2 Temperature range (if max/min present)"
   ]
  },
  {
   "cell_type": "code",
   "execution_count": 15,
   "id": "e378abbc",
   "metadata": {},
   "outputs": [],
   "source": [
    "if \"temp_max_mean_7\" in df.columns and \"temp_min_mean_7\" in df.columns:\n",
    "    df[\"temp_week_range\"] = df[\"temp_max_mean_7\"] - df[\"temp_min_mean_7\"]"
   ]
  },
  {
   "cell_type": "markdown",
   "id": "1fd30a6b",
   "metadata": {},
   "source": [
    "# Final engineered column list"
   ]
  },
  {
   "cell_type": "code",
   "execution_count": 16,
   "id": "d451aeaf",
   "metadata": {},
   "outputs": [
    {
     "name": "stdout",
     "output_type": "stream",
     "text": [
      "Final feature list length: 12\n"
     ]
    }
   ],
   "source": [
    "ENG_FEATURES = [\"precip_recent_mean\",\"precip_any_last1\"]\n",
    "if \"temp_week_range\" in df.columns:\n",
    "    ENG_FEATURES.append(\"temp_week_range\")\n",
    "\n",
    "ALL_FEATURES = FEATURE_COLS + ENG_FEATURES\n",
    "ALL_FEATURES = [c for c in ALL_FEATURES if c in df.columns]\n",
    "print(\"Final feature list length:\", len(ALL_FEATURES))"
   ]
  },
  {
   "cell_type": "markdown",
   "id": "828bbfd5",
   "metadata": {},
   "source": [
    "# G. Data Preparation for Modeling\n",
    "* G.1 Split Datasets (classification & regression prep)"
   ]
  },
  {
   "cell_type": "code",
   "execution_count": 17,
   "id": "154ad151",
   "metadata": {},
   "outputs": [
    {
     "name": "stdout",
     "output_type": "stream",
     "text": [
      "Classifier train/test sizes: (286, 18) (72, 18)\n",
      "Regression train/test sizes: (286, 18) (72, 18)\n"
     ]
    }
   ],
   "source": [
    "from sklearn.model_selection import train_test_split\n",
    "\n",
    "X_clf = prepare_X(df, ALL_FEATURES)\n",
    "y_clf = df[\"will_rain_plus7\"].astype(int)\n",
    "X_reg = prepare_X(df, ALL_FEATURES)\n",
    "y_reg = df[\"precip_next_3days\"].astype(float)\n",
    "\n",
    "X_clf, _ = X_clf.align(X_reg, join='outer', axis=1, fill_value=0)  \n",
    "X_train_clf, X_test_clf, y_train_clf, y_test_clf = train_test_split(\n",
    "    X_clf, y_clf, test_size=0.2, random_state=42, stratify=y_clf\n",
    ")\n",
    "\n",
    "X_train_reg, X_test_reg, y_train_reg, y_test_reg = train_test_split(\n",
    "    X_reg, y_reg, test_size=0.2, random_state=42\n",
    ")\n",
    "X_train_clf, X_test_clf = X_train_clf.align(X_test_clf, join='left', axis=1, fill_value=0)\n",
    "X_train_reg, X_test_reg = X_train_reg.align(X_test_reg, join='left', axis=1, fill_value=0)\n",
    "\n",
    "print(\"Classifier train/test sizes:\", X_train_clf.shape, X_test_clf.shape)\n",
    "print(\"Regression train/test sizes:\", X_train_reg.shape, X_test_reg.shape)"
   ]
  },
  {
   "cell_type": "markdown",
   "id": "a82eb8c4",
   "metadata": {},
   "source": [
    "# G.2 Data transformation for modeling (no scaling required for RF)"
   ]
  },
  {
   "cell_type": "markdown",
   "id": "b52d4b7b",
   "metadata": {},
   "source": [
    "We will use RandomForest models (no scaling needed). If using models requiring scaling, apply StandardScaler to numeric columns and save the scaler artifact."
   ]
  },
  {
   "cell_type": "markdown",
   "id": "25ef14b5",
   "metadata": {},
   "source": [
    "# H. Save Datasets & Models\n",
    "* H.1 Train & Evaluate Classification (Experiment 1 — Rain-or-Not +7 days)"
   ]
  },
  {
   "cell_type": "code",
   "execution_count": 18,
   "id": "52237edf",
   "metadata": {},
   "outputs": [
    {
     "name": "stdout",
     "output_type": "stream",
     "text": [
      "Classifier Accuracy: 0.7777777777777778\n",
      "Classifier ROC AUC: 0.6719298245614036\n",
      "\n",
      "Classification report:\n",
      "               precision    recall  f1-score   support\n",
      "\n",
      "           0       0.80      0.96      0.87        57\n",
      "           1       0.33      0.07      0.11        15\n",
      "\n",
      "    accuracy                           0.78        72\n",
      "   macro avg       0.57      0.52      0.49        72\n",
      "weighted avg       0.70      0.78      0.71        72\n",
      "\n"
     ]
    },
    {
     "data": {
      "image/png": "[encoded data removed]",
      "text/plain": [
       "<Figure size 400x300 with 2 Axes>"
      ]
     },
     "metadata": {},
     "output_type": "display_data"
    },
    {
     "name": "stdout",
     "output_type": "stream",
     "text": [
      "Top classifier features:\n",
      " temp_max_mean_7        0.138672\n",
      "temp_min_mean_7        0.138543\n",
      "dayofyear_cos          0.133492\n",
      "temp_week_range        0.112061\n",
      "dayofyear_sin          0.101711\n",
      "precip_recent_mean     0.073822\n",
      "precip_last_7          0.072966\n",
      "precip_last_3          0.047040\n",
      "precip_hours_last_7    0.045986\n",
      "precip_last_1          0.028932\n",
      "dtype: float64\n",
      "Saved classifier to: models/rain_or_not/25506751_rain_model.pkl\n"
     ]
    }
   ],
   "source": [
    "from sklearn.ensemble import RandomForestClassifier\n",
    "from sklearn.metrics import accuracy_score, roc_auc_score, classification_report, confusion_matrix\n",
    "import joblib\n",
    "import matplotlib.pyplot as plt\n",
    "import seaborn as sns\n",
    "import os\n",
    "\n",
    "# train classifier\n",
    "clf = RandomForestClassifier(n_estimators=200, random_state=42, n_jobs=-1, class_weight='balanced')\n",
    "clf.fit(X_train_clf, y_train_clf)\n",
    "\n",
    "# predict\n",
    "y_pred_clf = clf.predict(X_test_clf)\n",
    "y_proba_clf = clf.predict_proba(X_test_clf)[:,1]\n",
    "\n",
    "# metrics\n",
    "acc = accuracy_score(y_test_clf, y_pred_clf)\n",
    "auc = roc_auc_score(y_test_clf, y_proba_clf)\n",
    "print(\"Classifier Accuracy:\", acc)\n",
    "print(\"Classifier ROC AUC:\", auc)\n",
    "print(\"\\nClassification report:\\n\", classification_report(y_test_clf, y_pred_clf))\n",
    "\n",
    "# confusion matrix\n",
    "cm = confusion_matrix(y_test_clf, y_pred_clf)\n",
    "plt.figure(figsize=(4,3))\n",
    "sns.heatmap(cm, annot=True, fmt=\"d\", cmap=\"Blues\", xticklabels=[\"No\",\"Yes\"], yticklabels=[\"No\",\"Yes\"])\n",
    "plt.xlabel(\"Predicted\")\n",
    "plt.ylabel(\"Actual\")\n",
    "plt.title(\"Confusion matrix (Rain-or-Not +7d)\")\n",
    "plt.show()\n",
    "\n",
    "# feature importances\n",
    "fi_clf = pd.Series(clf.feature_importances_, index=X_train_clf.columns).sort_values(ascending=False)\n",
    "print(\"Top classifier features:\\n\", fi_clf.head(10))\n",
    "\n",
    "# save model\n",
    "os.makedirs(\"models/rain_or_not\", exist_ok=True)\n",
    "clf_path = f\"models/rain_or_not/25506751_rain_model.pkl\"\n",
    "joblib.dump(clf, clf_path)\n",
    "print(\"Saved classifier to:\", clf_path)\n"
   ]
  },
  {
   "cell_type": "markdown",
   "id": "e1d71337",
   "metadata": {},
   "source": [
    "# H.2 Train & Evaluate Regression (Experiment 2 — Precipitation next 3 days)"
   ]
  },
  {
   "cell_type": "code",
   "execution_count": 19,
   "id": "01352357",
   "metadata": {},
   "outputs": [
    {
     "name": "stdout",
     "output_type": "stream",
     "text": [
      "Requirement already satisfied: scikit-learn in /home/codespace/.local/lib/python3.12/site-packages (1.7.0)\n",
      "Collecting scikit-learn\n",
      "  Downloading scikit_learn-1.7.2-cp312-cp312-manylinux2014_x86_64.manylinux_2_17_x86_64.whl.metadata (11 kB)\n",
      "Requirement already satisfied: numpy>=1.22.0 in /home/codespace/.local/lib/python3.12/site-packages (from scikit-learn) (2.3.1)\n",
      "Requirement already satisfied: scipy>=1.8.0 in /home/codespace/.local/lib/python3.12/site-packages (from scikit-learn) (1.16.0)\n",
      "Requirement already satisfied: joblib>=1.2.0 in /home/codespace/.local/lib/python3.12/site-packages (from scikit-learn) (1.5.1)\n",
      "Requirement already satisfied: threadpoolctl>=3.1.0 in /home/codespace/.local/lib/python3.12/site-packages (from scikit-learn) (3.6.0)\n",
      "Downloading scikit_learn-1.7.2-cp312-cp312-manylinux2014_x86_64.manylinux_2_17_x86_64.whl (9.5 MB)\n",
      "\u001b[2K   \u001b[90m━━━━━━━━━━━━━━━━━━━━━━━━━━━━━━━━━━━━━━━━\u001b[0m \u001b[32m9.5/9.5 MB\u001b[0m \u001b[31m20.2 MB/s\u001b[0m eta \u001b[36m0:00:00\u001b[0m00:01\u001b[0m0:02\u001b[0m\n",
      "\u001b[?25hInstalling collected packages: scikit-learn\n",
      "  Attempting uninstall: scikit-learn\n",
      "    Found existing installation: scikit-learn 1.7.0\n",
      "    Uninstalling scikit-learn-1.7.0:\n",
      "      Successfully uninstalled scikit-learn-1.7.0\n",
      "Successfully installed scikit-learn-1.7.2\n",
      "\n",
      "\u001b[1m[\u001b[0m\u001b[34;49mnotice\u001b[0m\u001b[1;39;49m]\u001b[0m\u001b[39;49m A new release of pip is available: \u001b[0m\u001b[31;49m25.1.1\u001b[0m\u001b[39;49m -> \u001b[0m\u001b[32;49m25.2\u001b[0m\n",
      "\u001b[1m[\u001b[0m\u001b[34;49mnotice\u001b[0m\u001b[1;39;49m]\u001b[0m\u001b[39;49m To update, run: \u001b[0m\u001b[32;49mpython -m pip install --upgrade pip\u001b[0m\n",
      "Note: you may need to restart the kernel to use updated packages.\n"
     ]
    }
   ],
   "source": [
    "%pip install --upgrade scikit-learn"
   ]
  },
  {
   "cell_type": "code",
   "execution_count": 20,
   "id": "94f5d3ad",
   "metadata": {},
   "outputs": [
    {
     "name": "stdout",
     "output_type": "stream",
     "text": [
      "Regression MAE: 4.395943749999999\n",
      "Regression RMSE: 6.710765296317324\n",
      "Regression R2: 0.30953446756834946\n"
     ]
    },
    {
     "data": {
      "image/png": "[encoded data removed]",
      "text/plain": [
       "<Figure size 500x400 with 1 Axes>"
      ]
     },
     "metadata": {},
     "output_type": "display_data"
    },
    {
     "name": "stdout",
     "output_type": "stream",
     "text": [
      "Top regression features:\n",
      " dayofyear_cos          0.205735\n",
      "dayofyear_sin          0.163179\n",
      "temp_max_mean_7        0.153528\n",
      "temp_min_mean_7        0.126176\n",
      "temp_week_range        0.069940\n",
      "precip_last_7          0.064602\n",
      "precip_last_3          0.062599\n",
      "precip_recent_mean     0.052427\n",
      "precip_hours_last_7    0.029102\n",
      "precip_last_1          0.020364\n",
      "dtype: float64\n",
      "Saved regressor to: models/precipitation_fall/25506751_precip_model.pkl\n"
     ]
    }
   ],
   "source": [
    "\n",
    "from sklearn.ensemble import RandomForestRegressor\n",
    "from sklearn.metrics import mean_absolute_error, mean_squared_error, r2_score\n",
    "\n",
    "reg = RandomForestRegressor(n_estimators=200, random_state=42, n_jobs=-1)\n",
    "reg.fit(X_train_reg, y_train_reg)\n",
    "\n",
    "y_pred_reg = reg.predict(X_test_reg)\n",
    "\n",
    "from sklearn.metrics import mean_squared_error\n",
    "import numpy as np\n",
    "\n",
    "mae  = mean_absolute_error(y_test_reg, y_pred_reg)\n",
    "rmse = np.sqrt(mean_squared_error(y_test_reg, y_pred_reg))   # <-- change here\n",
    "r2   = r2_score(y_test_reg, y_pred_reg)\n",
    "\n",
    "print(\"Regression MAE:\", mae)\n",
    "print(\"Regression RMSE:\", rmse)\n",
    "print(\"Regression R2:\",  r2)\n",
    "\n",
    "\n",
    "# scatter observed vs predicted\n",
    "plt.figure(figsize=(5,4))\n",
    "sns.scatterplot(x=y_test_reg, y=y_pred_reg)\n",
    "plt.xlabel(\"Observed precip_next_3days\")\n",
    "plt.ylabel(\"Predicted\")\n",
    "plt.title(\"Regression: observed vs predicted\")\n",
    "plt.plot([y_test_reg.min(), y_test_reg.max()], [y_test_reg.min(), y_test_reg.max()], color=\"red\", linestyle=\"--\")\n",
    "plt.show()\n",
    "\n",
    "# top features\n",
    "fi_reg = pd.Series(reg.feature_importances_, index=X_train_reg.columns).sort_values(ascending=False)\n",
    "print(\"Top regression features:\\n\", fi_reg.head(10))\n",
    "\n",
    "# save regressor\n",
    "os.makedirs(\"models/precipitation_fall\", exist_ok=True)\n",
    "reg_path = f\"models/precipitation_fall/25506751_precip_model.pkl\"\n",
    "joblib.dump(reg, reg_path)\n",
    "print(\"Saved regressor to:\", reg_path)\n"
   ]
  }
 ],
 "metadata": {
  "kernelspec": {
   "display_name": "Python 3",
   "language": "python",
   "name": "python3"
  },
  "language_info": {
   "codemirror_mode": {
    "name": "ipython",
    "version": 3
   },
   "file_extension": ".py",
   "mimetype": "text/x-python",
   "name": "python",
   "nbconvert_exporter": "python",
   "pygments_lexer": "ipython3",
   "version": "3.12.1"
  }
 },
 "nbformat": 4,
 "nbformat_minor": 5
}
